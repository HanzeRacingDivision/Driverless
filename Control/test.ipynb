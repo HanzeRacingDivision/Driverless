{
 "cells": [
  {
   "cell_type": "code",
   "execution_count": 1,
   "outputs": [],
   "source": [
    "import matplotlib.pyplot as plt\n",
    "import numpy as np\n",
    "\n",
    "from Faster_Delaunay import delauney_boundary\n",
    "from path_finding import path_finding\n",
    "from splines import generate_increment_on_path\n",
    "# from control import control\n",
    "from typing import List"
   ],
   "metadata": {
    "collapsed": false,
    "pycharm": {
     "name": "#%%\n"
    }
   }
  },
  {
   "cell_type": "code",
   "execution_count": 27,
   "outputs": [],
   "source": [
    "example = [{\"Label\": \"Yellow\", \"Zpos\": None, \"Ypos\": 1.66, \"Xpos\": -1.16, \"Time\": None},  # A\n",
    "           {\"Label\": \"Blue\", \"Zpos\": None, \"Ypos\": 1, \"Xpos\": 1, \"Time\": None},  # B\n",
    "           {\"Label\": \"Orange\", \"Zpos\": None, \"Ypos\": 3.2, \"Xpos\": -0.14, \"Time\": None},  # C\n",
    "           {\"Label\": \"Orange\", \"Zpos\": None, \"Ypos\": 2.68, \"Xpos\": 1.64, \"Time\": None},  # D\n",
    "           {\"Label\": \"Orange\", \"Zpos\": None, \"Ypos\": 4.62, \"Xpos\": 1.26, \"Time\": None},  # E\n",
    "           {\"Label\": \"Orange\", \"Zpos\": None, \"Ypos\": 3.42, \"Xpos\": 2.88, \"Time\": None},  # F\n",
    "           {\"Label\": \"Yellow\", \"Zpos\": None, \"Ypos\": 4.98, \"Xpos\": 3.16, \"Time\": None}]  # G"
   ],
   "metadata": {
    "collapsed": false,
    "pycharm": {
     "name": "#%%\n"
    }
   }
  },
  {
   "cell_type": "code",
   "execution_count": 28,
   "outputs": [],
   "source": [
    "def control(cones: List[dict]):\n",
    "    oranges = []\n",
    "    j = 0\n",
    "    for i in range(len(cones)):\n",
    "        cone = cones[i - j]\n",
    "        if cone[\"Label\"] == \"Orange\":\n",
    "            del cones[i - j]\n",
    "            oranges.append([cone[\"Xpos\"], cone[\"Ypos\"]])\n",
    "            j += 1\n",
    "\n",
    "    if len(oranges) == 2:\n",
    "        print(np.array(oranges).shape)\n",
    "        print(np.average(oranges, axis=0))\n",
    "\n",
    "    print(cones)\n",
    "    triangles, cones = delauney_boundary(cones)\n",
    "    midpoints = path_finding(triangles, cones)\n",
    "    target_point = generate_increment_on_path(midpoints)\n",
    "    theta = np.arctan(target_point[0] / target_point[1])\n",
    "\n",
    "    return theta"
   ],
   "metadata": {
    "collapsed": false,
    "pycharm": {
     "name": "#%%\n"
    }
   }
  },
  {
   "cell_type": "code",
   "execution_count": 29,
   "outputs": [
    {
     "name": "stdout",
     "output_type": "stream",
     "text": [
      "(4, 2)\n",
      "[1.41 3.48]\n",
      "[{'Label': 'Yellow', 'Zpos': None, 'Ypos': 1.66, 'Xpos': -1.16, 'Time': None}, {'Label': 'Blue', 'Zpos': None, 'Ypos': 1, 'Xpos': 1, 'Time': None}, {'Label': 'Yellow', 'Zpos': None, 'Ypos': 4.98, 'Xpos': 3.16, 'Time': None}]\n"
     ]
    }
   ],
   "source": [
    "# triangles, cones = delauney_boundary(example)\n",
    "# midpoints = path_finding(triangles, cones)\n",
    "# next_point = generate_increment_on_path(midpoints)\n",
    "theta = control(example)"
   ],
   "metadata": {
    "collapsed": false,
    "pycharm": {
     "name": "#%%\n"
    }
   }
  },
  {
   "cell_type": "code",
   "source": [
    "midpoints"
   ],
   "metadata": {
    "collapsed": false,
    "pycharm": {
     "name": "#%%\n"
    }
   }
  },
  {
   "cell_type": "code",
   "execution_count": null,
   "outputs": [],
   "source": [],
   "metadata": {
    "collapsed": false,
    "pycharm": {
     "name": "#%%\n"
    }
   }
  },
  {
   "cell_type": "code",
   "execution_count": 5,
   "outputs": [
    {
     "data": {
      "text/plain": "<matplotlib.collections.PathCollection at 0x7fed5f7ab8b0>"
     },
     "execution_count": 5,
     "metadata": {},
     "output_type": "execute_result"
    },
    {
     "data": {
      "text/plain": "<Figure size 432x288 with 1 Axes>",
      "image/png": "[encoded data removed]"
     },
     "metadata": {
      "needs_background": "light"
     },
     "output_type": "display_data"
    }
   ],
   "source": [
    "plt.scatter(list(midpoints[:, 0]) + [next_point[0]], list(midpoints[:, 1]) + [next_point[1]])"
   ],
   "metadata": {
    "collapsed": false,
    "pycharm": {
     "name": "#%%\n"
    }
   }
  },
  {
   "cell_type": "code",
   "execution_count": 8,
   "outputs": [
    {
     "name": "stdout",
     "output_type": "stream",
     "text": [
      "[0.35863381 0.85780434]\n",
      "[0.43 2.1 ]\n"
     ]
    }
   ],
   "source": [
    "print(next_point)\n",
    "print(midpoints[0])"
   ],
   "metadata": {
    "collapsed": false,
    "pycharm": {
     "name": "#%%\n"
    }
   }
  },
  {
   "cell_type": "code",
   "execution_count": 12,
   "outputs": [
    {
     "data": {
      "text/plain": "43.9314391581934"
     },
     "execution_count": 12,
     "metadata": {},
     "output_type": "execute_result"
    }
   ],
   "source": [
    "abs(180 - theta * 360 / 2 * np.pi)"
   ],
   "metadata": {
    "collapsed": false,
    "pycharm": {
     "name": "#%%\n"
    }
   }
  },
  {
   "cell_type": "code",
   "execution_count": 13,
   "outputs": [
    {
     "data": {
      "text/plain": "True"
     },
     "execution_count": 13,
     "metadata": {},
     "output_type": "execute_result"
    }
   ],
   "source": [
    "\"Blue\" == \"Blue\" == \"Blue\""
   ],
   "metadata": {
    "collapsed": false,
    "pycharm": {
     "name": "#%%\n"
    }
   }
  },
  {
   "cell_type": "code",
   "execution_count": 23,
   "outputs": [
    {
     "data": {
      "text/plain": "array([[ 0.43,  2.1 ],\n       [-0.08,  1.33]])"
     },
     "execution_count": 23,
     "metadata": {},
     "output_type": "execute_result"
    }
   ],
   "source": [
    "midpoints"
   ],
   "metadata": {
    "collapsed": false,
    "pycharm": {
     "name": "#%%\n"
    }
   }
  },
  {
   "cell_type": "code",
   "execution_count": null,
   "outputs": [],
   "source": [],
   "metadata": {
    "collapsed": false,
    "pycharm": {
     "name": "#%%\n"
    }
   }
  }
 ],
 "metadata": {
  "kernelspec": {
   "display_name": "Python 3",
   "language": "python",
   "name": "python3"
  },
  "language_info": {
   "codemirror_mode": {
    "name": "ipython",
    "version": 2
   },
   "file_extension": ".py",
   "mimetype": "text/x-python",
   "name": "python",
   "nbconvert_exporter": "python",
   "pygments_lexer": "ipython2",
   "version": "2.7.6"
  }
 },
 "nbformat": 4,
 "nbformat_minor": 0
}