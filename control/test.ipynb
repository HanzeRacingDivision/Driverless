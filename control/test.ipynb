{
 "cells": [
  {
   "cell_type": "code",
   "execution_count": 1,
   "outputs": [],
   "source": [
    "import matplotlib.pyplot as plt\n",
    "import numpy as np\n",
    "\n",
    "from Faster_Delaunay import delauney_boundary\n",
    "from path_finding import path_finding\n",
    "from splines import generate_increment_on_path\n",
    "from control import control"
   ],
   "metadata": {
    "collapsed": false,
    "pycharm": {
     "name": "#%%\n"
    }
   }
  },
  {
   "cell_type": "code",
   "execution_count": 4,
   "outputs": [],
   "source": [
    "example = [{\"Label\": \"Yellow\", \"Zpos\": None, \"Ypos\": 1.66, \"Xpos\": -1.16, \"Time\": None},\n",
    "           {\"Label\": \"Blue\", \"Zpos\": None, \"Ypos\": 1, \"Xpos\": 1, \"Time\": None},\n",
    "           {\"Label\": \"Yellow\", \"Zpos\": None, \"Ypos\": 3.2, \"Xpos\": -0.14, \"Time\": None},\n",
    "           {\"Label\": \"Blue\", \"Zpos\": None, \"Ypos\": 2.68, \"Xpos\": 1.64, \"Time\": None},\n",
    "           {\"Label\": \"Yellow\", \"Zpos\": None, \"Ypos\": 4.62, \"Xpos\": 1.26, \"Time\": None},\n",
    "           {\"Label\": \"Blue\", \"Zpos\": None, \"Ypos\": 3.42, \"Xpos\": 2.88, \"Time\": None},\n",
    "           {\"Label\": \"Yellow\", \"Zpos\": None, \"Ypos\": 3.16, \"Xpos\": 4.98, \"Time\": None}]"
   ],
   "metadata": {
    "collapsed": false,
    "pycharm": {
     "name": "#%%\n"
    }
   }
  },
  {
   "cell_type": "code",
   "execution_count": 5,
   "outputs": [],
   "source": [
    "triangles, cones = delauney_boundary(example)\n",
    "midpoints = path_finding(triangles, cones)\n",
    "next_point = generate_increment_on_path(midpoints)\n",
    "theta = control(example)"
   ],
   "metadata": {
    "collapsed": false,
    "pycharm": {
     "name": "#%%\n"
    }
   }
  },
  {
   "cell_type": "code",
   "execution_count": 6,
   "outputs": [
    {
     "data": {
      "text/plain": "<matplotlib.collections.PathCollection at 0x7fc9c1d0bb80>"
     },
     "execution_count": 6,
     "metadata": {},
     "output_type": "execute_result"
    },
    {
     "data": {
      "text/plain": "<Figure size 432x288 with 1 Axes>",
      "image/png": "[encoded data removed]"
     },
     "metadata": {
      "needs_background": "light"
     },
     "output_type": "display_data"
    }
   ],
   "source": [
    "plt.scatter(list(midpoints[:, 0]) + [next_point[0]], list(midpoints[:, 1]) + [next_point[1]])"
   ],
   "metadata": {
    "collapsed": false,
    "pycharm": {
     "name": "#%%\n"
    }
   }
  },
  {
   "cell_type": "code",
   "execution_count": 8,
   "outputs": [
    {
     "name": "stdout",
     "output_type": "stream",
     "text": [
      "[0.35863381 0.85780434]\n",
      "[0.43 2.1 ]\n"
     ]
    }
   ],
   "source": [
    "print(next_point)\n",
    "print(midpoints[0])"
   ],
   "metadata": {
    "collapsed": false,
    "pycharm": {
     "name": "#%%\n"
    }
   }
  },
  {
   "cell_type": "code",
   "execution_count": null,
   "outputs": [],
   "source": [],
   "metadata": {
    "collapsed": false,
    "pycharm": {
     "name": "#%%\n"
    }
   }
  }
 ],
 "metadata": {
  "kernelspec": {
   "display_name": "Python 3",
   "language": "python",
   "name": "python3"
  },
  "language_info": {
   "codemirror_mode": {
    "name": "ipython",
    "version": 2
   },
   "file_extension": ".py",
   "mimetype": "text/x-python",
   "name": "python",
   "nbconvert_exporter": "python",
   "pygments_lexer": "ipython2",
   "version": "2.7.6"
  }
 },
 "nbformat": 4,
 "nbformat_minor": 0
}