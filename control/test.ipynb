{
 "cells": [
  {
   "cell_type": "code",
   "execution_count": 1,
   "outputs": [],
   "source": [
    "import matplotlib.pyplot as plt\n",
    "\n",
    "from Faster_Delaunay import delauney_boundary, separating\n",
    "from path_finding import path_finding"
   ],
   "metadata": {
    "collapsed": false,
    "pycharm": {
     "name": "#%%\n"
    }
   }
  },
  {
   "cell_type": "code",
   "execution_count": 2,
   "outputs": [],
   "source": [
    "example = [{\"Label\": \"Yellow\", \"Zpos\": 2, \"Ypos\": 0, \"Xpos\": 0, \"Time\": 1},\n",
    "           {\"Label\": \"Blue\", \"Zpos\": 2, \"Ypos\": 0, \"Xpos\": 1, \"Time\": 1},\n",
    "           {\"Label\": \"Yellow\", \"Zpos\": 2, \"Ypos\": 1, \"Xpos\": 0, \"Time\": 1},\n",
    "           {\"Label\": \"Blue\", \"Zpos\": 2, \"Ypos\": 1, \"Xpos\": 1, \"Time\": 1},\n",
    "           {\"Label\": \"Yellow\", \"Zpos\": 2, \"Ypos\": 2, \"Xpos\": 0, \"Time\": 1},\n",
    "           {\"Label\": \"Blue\", \"Zpos\": 2, \"Ypos\": 2, \"Xpos\": 1, \"Time\": 1}]"
   ],
   "metadata": {
    "collapsed": false,
    "pycharm": {
     "name": "#%%\n"
    }
   }
  },
  {
   "cell_type": "code",
   "execution_count": 3,
   "outputs": [],
   "source": [
    "triangles, cones = delauney_boundary(example)\n",
    "midpoints = path_finding(triangles, cones)"
   ],
   "metadata": {
    "collapsed": false,
    "pycharm": {
     "name": "#%%\n"
    }
   }
  },
  {
   "cell_type": "code",
   "execution_count": 4,
   "outputs": [
    {
     "data": {
      "text/plain": "array([[0.5, 0. ],\n       [0.5, 0.5],\n       [0.5, 1. ],\n       [0.5, 1.5],\n       [0.5, 2. ]])"
     },
     "execution_count": 4,
     "metadata": {},
     "output_type": "execute_result"
    }
   ],
   "source": [
    "midpoints"
   ],
   "metadata": {
    "collapsed": false,
    "pycharm": {
     "name": "#%%\n"
    }
   }
  },
  {
   "cell_type": "code",
   "execution_count": 5,
   "outputs": [
    {
     "data": {
      "text/plain": "<matplotlib.collections.PathCollection at 0x7fcc85f7a590>"
     },
     "execution_count": 5,
     "metadata": {},
     "output_type": "execute_result"
    },
    {
     "data": {
      "text/plain": "<Figure size 432x288 with 1 Axes>",
      "image/png": "[encoded data removed]"
     },
     "metadata": {
      "needs_background": "light"
     },
     "output_type": "display_data"
    }
   ],
   "source": [
    "plt.scatter(midpoints[:, 0], midpoints[:, 1], )"
   ],
   "metadata": {
    "collapsed": false,
    "pycharm": {
     "name": "#%%\n"
    }
   }
  },
  {
   "cell_type": "code",
   "execution_count": null,
   "outputs": [],
   "source": [],
   "metadata": {
    "collapsed": false,
    "pycharm": {
     "name": "#%%\n"
    }
   }
  }
 ],
 "metadata": {
  "kernelspec": {
   "display_name": "Python 3",
   "language": "python",
   "name": "python3"
  },
  "language_info": {
   "codemirror_mode": {
    "name": "ipython",
    "version": 2
   },
   "file_extension": ".py",
   "mimetype": "text/x-python",
   "name": "python",
   "nbconvert_exporter": "python",
   "pygments_lexer": "ipython2",
   "version": "2.7.6"
  }
 },
 "nbformat": 4,
 "nbformat_minor": 0
}